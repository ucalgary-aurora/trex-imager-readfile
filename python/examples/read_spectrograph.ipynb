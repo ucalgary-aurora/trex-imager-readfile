{
 "cells": [
  {
   "cell_type": "markdown",
   "metadata": {},
   "source": [
    "# Reading TREx Spectrograph raw image data\n",
    "\n",
    "Below we'll retrieve TREx Spectrograph data, read it, and do a bit of processing. An internet connection is required since we'll need to download data."
   ]
  },
  {
   "cell_type": "markdown",
   "metadata": {},
   "source": [
    "## Retrieve a minute of data"
   ]
  },
  {
   "cell_type": "code",
   "execution_count": 1,
   "metadata": {},
   "outputs": [],
   "source": [
    "import requests"
   ]
  },
  {
   "cell_type": "code",
   "execution_count": 2,
   "metadata": {},
   "outputs": [],
   "source": [
    "# 2020-03-21 06:30 UTC in Rabbit Lake, Manitoba, was a particularly good night\n",
    "url = \"https://data.phys.ucalgary.ca/sort_by_project/TREx/spectrograph/stream0/2020/03/03/rabb_spect-01/ut06/20200303_0630_rabb_spect-01_spectra.pgm.gz\"\n",
    "r = requests.get(url)"
   ]
  },
  {
   "cell_type": "code",
   "execution_count": 3,
   "metadata": {},
   "outputs": [],
   "source": [
    "# save data to a local file\n",
    "filename = \"20200303_0630_rabb_spect-01_spectra.pgm.gz\"\n",
    "with open(filename, 'wb') as f:\n",
    "    f.write(r.content)"
   ]
  },
  {
   "cell_type": "markdown",
   "metadata": {},
   "source": [
    "## Read the data file"
   ]
  },
  {
   "cell_type": "code",
   "execution_count": 4,
   "metadata": {},
   "outputs": [],
   "source": [
    "import trex_imager_readfile"
   ]
  },
  {
   "cell_type": "code",
   "execution_count": 5,
   "metadata": {},
   "outputs": [],
   "source": [
    "img, meta, problematic_files = trex_imager_readfile.read_spectrograph(filename)"
   ]
  },
  {
   "cell_type": "code",
   "execution_count": 6,
   "metadata": {},
   "outputs": [
    {
     "name": "stdout",
     "output_type": "stream",
     "text": [
      "Image dimensions: 1024 x 256\n",
      "Number of images: 4\n"
     ]
    }
   ],
   "source": [
    "# the imager takes a picture every 15 seconds, so a 1-minute file usually contains 4 images\n",
    "print(\"Image dimensions: %d x %d\" % (img.shape[0], img.shape[1]))\n",
    "print(\"Number of images: %d\" % (img.shape[2]))"
   ]
  },
  {
   "cell_type": "code",
   "execution_count": 7,
   "metadata": {},
   "outputs": [
    {
     "data": {
      "text/plain": [
       "array([[301, 303, 302, ..., 297, 303, 301],\n",
       "       [302, 295, 302, ..., 302, 298, 299],\n",
       "       [297, 303, 306, ..., 298, 303, 303],\n",
       "       ...,\n",
       "       [300, 297, 302, ..., 299, 303, 303],\n",
       "       [300, 306, 299, ..., 300, 305, 300],\n",
       "       [300, 302, 301, ..., 302, 297, 303]], dtype=uint16)"
      ]
     },
     "execution_count": 7,
     "metadata": {},
     "output_type": "execute_result"
    }
   ],
   "source": [
    "# data for the first image\n",
    "img[:,:,0]"
   ]
  },
  {
   "cell_type": "code",
   "execution_count": 8,
   "metadata": {},
   "outputs": [
    {
     "data": {
      "text/plain": [
       "{'Project unique ID': 'trex',\n",
       " 'Site unique ID': 'rabb',\n",
       " 'Imager unique ID': 'spect-01',\n",
       " 'Mode unique ID': 'spectra',\n",
       " 'Geographic latitude': '58.227808',\n",
       " 'Geographic longitude': '-103.680631',\n",
       " 'Optical Configuration': 'Fisheye_Canon15mm_f2.8_SN34883,SLB-60-80-PM,Slit 250um,SLB-100B-200PM,Nikon_50mm_f1.2_SN277915',\n",
       " 'Grating Model': 'Richardson/Newport 53015BK01-260R (600G 500nm 8.6d)',\n",
       " 'Grating Serial Number': '1670-3-4-1',\n",
       " 'Camera Model': 'Andor DU934P-BV',\n",
       " 'Camera Serial Number': '21446',\n",
       " 'CCD type': 'E2V CCD47-10',\n",
       " 'CCD xsize': '1024 pixels',\n",
       " 'CCD ysize': '1024 pixels',\n",
       " 'Pixel depth': '16 bits',\n",
       " 'CCD xbinned': '4',\n",
       " 'CCD ybinned': '1',\n",
       " 'VSSpeed index': '1',\n",
       " 'VS Amplitude index': '0',\n",
       " 'VS Amplitude': '0',\n",
       " 'High Capacity Toggle': '0',\n",
       " 'Requested Pre Amp gain': '1.0',\n",
       " 'Current HS Speed': '1.0 MHz',\n",
       " 'Requested Exposure': '13.0',\n",
       " 'Conf file set CCD temperature': '-65C (+- 5C)',\n",
       " 'Calibration reference': '20191006_spect-01_Rabbit_Lake_Field_Cal',\n",
       " 'Calibration resolution': '0.415253',\n",
       " 'Calibration lambda start': '379.592',\n",
       " 'Calibration lambda end': '804.811',\n",
       " 'Calibration unwarping alpha0': '379.592 0.394094 2.10802e-005',\n",
       " 'Calibration unwarping kx row 1': '-1.23240e-008 3.85167e-011 -3.77892e-014 5.72716e-016',\n",
       " 'Calibration unwarping kx row 2': '1.00000 -3.84431e-012 1.02301e-014 -7.08850e-018',\n",
       " 'Calibration unwarping kx row 3': '-2.46139e-012 -7.23065e-015 -1.16749e-016 -6.43389e-020',\n",
       " 'Calibration unwarping kx row 4': '4.50549e-015 -9.38178e-017 -7.96922e-020 5.61578e-024',\n",
       " 'Calibration unwarping ky row 1': '8.52988 1.00958 6.83214e-011 7.21324e-014',\n",
       " 'Calibration unwarping ky row 2': '-0.137813 -0.000159474 4.06442e-011 -6.04550e-014',\n",
       " 'Calibration unwarping ky row 3': '0.000554956 6.58967e-007 -5.15158e-013 7.62384e-016',\n",
       " 'Calibration unwarping ky row 4': '9.74575e-012 -2.53925e-013 1.69954e-015 -2.53511e-018',\n",
       " 'Computer name': 'rabb-spect',\n",
       " 'Operating System': 'Linux 3.10.0-957.27.2.el7.x86_64 #1 SMP Mon Jul 29 17:46:05 UTC 2019',\n",
       " 'NTP target': 'GPS',\n",
       " 'NTP delay': '0.000',\n",
       " 'NTP offset': '-14.484',\n",
       " 'NTP jitter': '19.470',\n",
       " 'Mode sequence number': '1115',\n",
       " 'VSSpeed': '11.287499',\n",
       " 'Current CCD temperature': '-64C',\n",
       " 'Last Known Shutter State': 'AUTO',\n",
       " 'Digitemp Camera': '19.69 C',\n",
       " 'Bright Light Status': 'DARK (550)',\n",
       " 'Exposure Options': 'WIDTH=256 HEIGHT=1024 XBIN=4 YBIN=1 MSEC=13000.00',\n",
       " 'Image request start': '2020-03-03 06:30:00.000000 UTC',\n",
       " 'Image readout start': '2020-03-03 06:30:13.000436 UTC',\n",
       " 'Exposure plus readout': '13006.0000 ms'}"
      ]
     },
     "execution_count": 8,
     "metadata": {},
     "output_type": "execute_result"
    }
   ],
   "source": [
    "# metadata for first image\n",
    "meta[0]"
   ]
  },
  {
   "cell_type": "markdown",
   "metadata": {},
   "source": [
    "## Visualize the image"
   ]
  },
  {
   "cell_type": "code",
   "execution_count": 9,
   "metadata": {},
   "outputs": [],
   "source": [
    "%matplotlib inline\n",
    "from matplotlib import pyplot as plt"
   ]
  },
  {
   "cell_type": "code",
   "execution_count": 10,
   "metadata": {},
   "outputs": [
    {
     "data": {
      "image/png": "[encoded data removed]",
      "text/plain": [
       "<Figure size 640x480 with 1 Axes>"
      ]
     },
     "metadata": {},
     "output_type": "display_data"
    }
   ],
   "source": [
    "plt.imshow(img[:,:,0], cmap=\"gray\")\n",
    "plt.axis(\"off\")\n",
    "plt.show() "
   ]
  },
  {
   "cell_type": "markdown",
   "metadata": {},
   "source": [
    "# Let's scale the image so it's a bit brighter\n",
    "\n",
    "Next we'll scale the image using a linear scale with a min and max cut-off. This allows us to easily brighten the image while not increasing the CCD readout noise."
   ]
  },
  {
   "cell_type": "code",
   "execution_count": 12,
   "metadata": {},
   "outputs": [],
   "source": [
    "import numpy as np\n",
    "\n",
    "scale_min = 100.0   # MUST be a float\n",
    "scale_max = 500.0  # MUST be a float\n",
    "\n",
    "scale_diff = scale_max - scale_min\n",
    "scale_ratio = 65535.0 / scale_diff\n",
    "im_scaled = (img[:,:,0] - scale_min) * scale_ratio    # apply scale\n",
    "im_scaled = im_scaled.clip(0, 65535) + 0.5            # limit to 0-255 (the range of an 8-bit image)\n",
    "im_scaled = im_scaled.astype(np.uint16)               # convert data type to 8-bit"
   ]
  },
  {
   "cell_type": "code",
   "execution_count": 13,
   "metadata": {},
   "outputs": [
    {
     "data": {
      "image/png": "[encoded data removed]",
      "text/plain": [
       "<Figure size 640x480 with 1 Axes>"
      ]
     },
     "metadata": {},
     "output_type": "display_data"
    }
   ],
   "source": [
    "# scale the image with 200 as the floor and 2000 as the ceiling, then display\n",
    "plt.imshow(im_scaled, cmap=\"gray\")\n",
    "plt.axis(\"off\")\n",
    "plt.show() "
   ]
  },
  {
   "cell_type": "markdown",
   "metadata": {},
   "source": [
    "The x-axis is the meridional axis of the image we collect (which really is a magnetic North/South slice of the sky), and the y-axis is the wavelength. Each visible horizontal line you see in the image is a different wavelength. From top to bottom in the above image, the wavelength is ordered with red (630.0nm) towards the top and blue near the bottom (427.8nm)"
   ]
  },
  {
   "cell_type": "markdown",
   "metadata": {},
   "source": [
    "## Cleanup downloaded file"
   ]
  },
  {
   "cell_type": "code",
   "execution_count": 14,
   "metadata": {},
   "outputs": [],
   "source": [
    "# remove the downloaded files\n",
    "import os\n",
    "os.remove(filename)"
   ]
  }
 ],
 "metadata": {
  "kernelspec": {
   "display_name": "Python 3 (ipykernel)",
   "language": "python",
   "name": "python3"
  },
  "language_info": {
   "codemirror_mode": {
    "name": "ipython",
    "version": 3
   },
   "file_extension": ".py",
   "mimetype": "text/x-python",
   "name": "python",
   "nbconvert_exporter": "python",
   "pygments_lexer": "ipython3",
   "version": "3.11.7"
  }
 },
 "nbformat": 4,
 "nbformat_minor": 4
}
